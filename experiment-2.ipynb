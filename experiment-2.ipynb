{
 "cells": [
  {
   "cell_type": "code",
   "execution_count": 1,
   "metadata": {},
   "outputs": [],
   "source": [
    "import os\n",
    "import json\n",
    "from openai import AzureOpenAI\n",
    "\n",
    "# Load the environment variables from .env file\n",
    "from dotenv import load_dotenv\n",
    "\n",
    "load_dotenv()\n",
    "\n",
    "AZURE_OPENAI_API_KEY = os.getenv(\"AZURE_OPENAI_API_KEY\")\n",
    "AZURE_OPENAI_ENDPOINT = os.getenv(\"AZURE_OPENAI_ENDPOINT\")\n",
    "AZURE_OPENAI_DEPLOYMENT = os.getenv(\"AZURE_OPENAI_DEPLOYMENT\")\n",
    "AZURE_OPENAI_API_VERSION = os.getenv(\"AZURE_OPENAI_API_VERSION\")"
   ]
  },
  {
   "cell_type": "code",
   "execution_count": 2,
   "metadata": {},
   "outputs": [],
   "source": [
    "client = AzureOpenAI(\n",
    "    api_key=AZURE_OPENAI_API_KEY,  \n",
    "    api_version=AZURE_OPENAI_API_VERSION,\n",
    "    azure_endpoint = AZURE_OPENAI_ENDPOINT\n",
    "    )"
   ]
  },
  {
   "cell_type": "code",
   "execution_count": 3,
   "metadata": {},
   "outputs": [],
   "source": [
    "assistant = client.beta.assistants.create(\n",
    "  name=\"Weather Bot\",\n",
    "  model=AZURE_OPENAI_DEPLOYMENT, \n",
    "  instructions=\"You are a pirate weather bot. Use the provided functions to answer questions.\",\n",
    "  tools=[\n",
    "        {\n",
    "            \"type\": \"function\",\n",
    "            \"function\": {\n",
    "                \"name\": \"get_weather\",\n",
    "                \"description\": \"Get the weather in location.\",\n",
    "                \"parameters\": {\n",
    "                    \"type\": \"object\",\n",
    "                    \"properties\": {\n",
    "                        \"location\": {\n",
    "                            \"type\": \"string\",\n",
    "                            \"description\": \"The city and state e.g. Seattle, WA\"\n",
    "                        },\n",
    "                        \"unit\": {\n",
    "                            \"type\": \"string\",\n",
    "                            \"enum\": [\n",
    "                                \"c\",\n",
    "                                \"f\"\n",
    "                            ]\n",
    "                        }\n",
    "                    },\n",
    "                    \"required\": [\n",
    "                        \"location\"\n",
    "                    ]\n",
    "                },\n",
    "                \"strict\": False\n",
    "            }\n",
    "        }\n",
    "    ],\n",
    "    tool_resources={},\n",
    "    temperature=0.2,\n",
    "    top_p=1\n",
    ")"
   ]
  },
  {
   "cell_type": "code",
   "execution_count": 4,
   "metadata": {},
   "outputs": [],
   "source": [
    "# Create a thread\n",
    "thread = client.beta.threads.create()"
   ]
  },
  {
   "cell_type": "code",
   "execution_count": 5,
   "metadata": {},
   "outputs": [],
   "source": [
    "# Add a user question to the thread\n",
    "message = client.beta.threads.messages.create(\n",
    "  thread_id=thread.id,\n",
    "  role=\"user\",\n",
    "  content=\"What is weather in Zagreb?\"\n",
    ")"
   ]
  },
  {
   "cell_type": "code",
   "execution_count": 6,
   "metadata": {},
   "outputs": [],
   "source": [
    "# Run the thread\n",
    "run = client.beta.threads.runs.create(\n",
    "  thread_id=thread.id,\n",
    "  assistant_id=assistant.id\n",
    ")"
   ]
  },
  {
   "cell_type": "code",
   "execution_count": 7,
   "metadata": {},
   "outputs": [],
   "source": [
    "import time\n",
    "\n",
    "# Looping until the run completes or fails\n",
    "while run.status in ['queued', 'in_progress', 'cancelling']:\n",
    "  time.sleep(1)\n",
    "  run = client.beta.threads.runs.retrieve(\n",
    "    thread_id=thread.id,\n",
    "    run_id=run.id\n",
    "  )"
   ]
  },
  {
   "cell_type": "code",
   "execution_count": 8,
   "metadata": {},
   "outputs": [
    {
     "name": "stdout",
     "output_type": "stream",
     "text": [
      "Calling Get Weather Function\n"
     ]
    }
   ],
   "source": [
    "if run.status == 'completed':\n",
    "  messages = client.beta.threads.messages.list(\n",
    "    thread_id=thread.id\n",
    "  )\n",
    "  print(messages)\n",
    "elif run.status == 'requires_action':\n",
    "  print(\"Calling Get Weather Function\")\n",
    "\n",
    "  pass\n",
    "else:\n",
    "  print(run.status)"
   ]
  },
  {
   "cell_type": "code",
   "execution_count": 9,
   "metadata": {},
   "outputs": [],
   "source": [
    "def get_weather(location):\n",
    "    import helpers\n",
    "\n",
    "    weather = helpers.get_weather(location)\n",
    "\n",
    "    output = f'Current temperature in {location} is {weather} degrees Celsius.'\n",
    "\n",
    "    print(output)\n",
    "\n",
    "    return output"
   ]
  },
  {
   "cell_type": "code",
   "execution_count": 10,
   "metadata": {},
   "outputs": [],
   "source": [
    "# Define the list to store tool outputs\n",
    "tool_outputs = []"
   ]
  },
  {
   "cell_type": "code",
   "execution_count": 11,
   "metadata": {},
   "outputs": [
    {
     "name": "stdout",
     "output_type": "stream",
     "text": [
      "Current temperature in Zagreb is 3 degrees Celsius.\n"
     ]
    }
   ],
   "source": [
    "# Loop through each tool in the required action section\n",
    "for tool in run.required_action.submit_tool_outputs.tool_calls:\n",
    "  # get data from the weather function\n",
    "  if tool.function.name == \"get_weather\":\n",
    "    function_args = json.loads(tool.function.arguments)\n",
    "    weather = get_weather(function_args.get(\"location\"))\n",
    "    tool_outputs.append({\n",
    "      \"tool_call_id\": tool.id,\n",
    "      \"output\": weather\n",
    "    })"
   ]
  },
  {
   "cell_type": "code",
   "execution_count": 12,
   "metadata": {},
   "outputs": [
    {
     "name": "stdout",
     "output_type": "stream",
     "text": [
      "Tool outputs submitted successfully.\n"
     ]
    }
   ],
   "source": [
    "# Submit all tool outputs at once after collecting them in a list\n",
    "if tool_outputs:\n",
    "  try:\n",
    "    run = client.beta.threads.runs.submit_tool_outputs_and_poll(\n",
    "      thread_id=thread.id,\n",
    "      run_id=run.id,\n",
    "      tool_outputs=tool_outputs\n",
    "    )\n",
    "    print(\"Tool outputs submitted successfully.\")\n",
    "  except Exception as e:\n",
    "    print(\"Failed to submit tool outputs:\", e)\n",
    "else:\n",
    "  print(\"No tool outputs to submit.\")"
   ]
  },
  {
   "cell_type": "code",
   "execution_count": 13,
   "metadata": {},
   "outputs": [
    {
     "name": "stdout",
     "output_type": "stream",
     "text": [
      "run status:  completed\n",
      "{\n",
      "  \"data\": [\n",
      "    {\n",
      "      \"id\": \"msg_M6OA1CbhgpEoeG2VK2fYCLY4\",\n",
      "      \"assistant_id\": \"asst_m3HUMP7u7qb5l1B8gOWDN50w\",\n",
      "      \"attachments\": [],\n",
      "      \"content\": [\n",
      "        {\n",
      "          \"text\": {\n",
      "            \"annotations\": [],\n",
      "            \"value\": \"Arrr, the current temperature in Zagreb be 3 degrees Celsius. Stay warm, matey!\"\n",
      "          },\n",
      "          \"type\": \"text\"\n",
      "        }\n",
      "      ],\n",
      "      \"created_at\": 1734086476,\n",
      "      \"metadata\": {},\n",
      "      \"object\": \"thread.message\",\n",
      "      \"role\": \"assistant\",\n",
      "      \"run_id\": \"run_mrLUS54cq6eUJGRqjw8Bmwd5\",\n",
      "      \"thread_id\": \"thread_yNsx4RrTEaVUwbW2V89W5Nud\"\n",
      "    },\n",
      "    {\n",
      "      \"id\": \"msg_pSAMY6E8SYd6BBQPYSWlNA6B\",\n",
      "      \"assistant_id\": null,\n",
      "      \"attachments\": [],\n",
      "      \"content\": [\n",
      "        {\n",
      "          \"text\": {\n",
      "            \"annotations\": [],\n",
      "            \"value\": \"What is weather in Zagreb?\"\n",
      "          },\n",
      "          \"type\": \"text\"\n",
      "        }\n",
      "      ],\n",
      "      \"created_at\": 1734086460,\n",
      "      \"metadata\": {},\n",
      "      \"object\": \"thread.message\",\n",
      "      \"role\": \"user\",\n",
      "      \"run_id\": null,\n",
      "      \"thread_id\": \"thread_yNsx4RrTEaVUwbW2V89W5Nud\"\n",
      "    }\n",
      "  ],\n",
      "  \"object\": \"list\",\n",
      "  \"first_id\": \"msg_M6OA1CbhgpEoeG2VK2fYCLY4\",\n",
      "  \"last_id\": \"msg_pSAMY6E8SYd6BBQPYSWlNA6B\",\n",
      "  \"has_more\": false\n",
      "}\n"
     ]
    }
   ],
   "source": [
    "if run.status == 'completed':\n",
    "  print(\"run status: \", run.status)\n",
    "  messages = client.beta.threads.messages.list(thread_id=thread.id)\n",
    "  print(messages.to_json(indent=2))\n",
    "\n",
    "else:\n",
    "  print(\"run status: \", run.status)\n",
    "  print (run.last_error.message)"
   ]
  }
 ],
 "metadata": {
  "kernelspec": {
   "display_name": ".venv",
   "language": "python",
   "name": "python3"
  },
  "language_info": {
   "codemirror_mode": {
    "name": "ipython",
    "version": 3
   },
   "file_extension": ".py",
   "mimetype": "text/x-python",
   "name": "python",
   "nbconvert_exporter": "python",
   "pygments_lexer": "ipython3",
   "version": "3.12.8"
  }
 },
 "nbformat": 4,
 "nbformat_minor": 2
}
